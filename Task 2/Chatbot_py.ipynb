{
  "cells": [
    {
      "cell_type": "code",
      "source": [
        "# chatbot.py\n",
        "\n",
        "def simple_chatbot(user_query):\n",
        "    if user_query.lower() == \"what is the total revenue?\":\n",
        "        return \"The total revenue is $100 million.\"  # Replace with actual data\n",
        "    elif user_query.lower() == \"how has net income changed over the last year?\":\n",
        "        return \"The net income has increased by 5% over the last year.\"  # Replace with actual data\n",
        "    elif user_query.lower() == \"what are the total assets?\":\n",
        "        return \"The total assets are $500 million.\"  # Replace with actual data\n",
        "    elif user_query.lower() == \"what is the debt-to-asset ratio?\":\n",
        "        return \"The debt-to-asset ratio is 40%.\"  # Replace with actual data\n",
        "    else:\n",
        "        return \"Sorry, I can only provide information on predefined queries.\"\n",
        "\n",
        "# Main loop to test the chatbot\n",
        "if __name__ == \"__main__\":\n",
        "    print(\"Welcome to the Financial Chatbot! Ask your financial queries.\")\n",
        "    while True:\n",
        "        query = input(\"You: \")\n",
        "        if query.lower() == \"exit\":\n",
        "            print(\"Chatbot: Thank you! Have a great day!\")\n",
        "            break\n",
        "        response = simple_chatbot(query)\n",
        "        print(\"Chatbot:\", response)\n"
      ],
      "metadata": {
        "id": "ILzbI_Nxue3A"
      },
      "execution_count": null,
      "outputs": []
    }
  ],
  "metadata": {
    "colab": {
      "toc_visible": true,
      "provenance": []
    },
    "kernelspec": {
      "display_name": "Python 3",
      "name": "python3"
    }
  },
  "nbformat": 4,
  "nbformat_minor": 0
}